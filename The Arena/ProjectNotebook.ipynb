{
 "cells": [
  {
   "attachments": {},
   "cell_type": "markdown",
   "metadata": {},
   "source": [
    "# Welcome to The Arena!"
   ]
  },
  {
   "attachments": {},
   "cell_type": "markdown",
   "metadata": {},
   "source": [
    "This project is a short dueling combat minigame where you get to fight a monster!\n",
    "\n",
    "However, before entering _the arena_, you must first identify yourself. That is, you must describe your specific strengths and weaknesses. These attributes will affect how well you can perform certain actions in combat, listed here:\n",
    "\n",
    "- **Strength**: Essentially how hard you hit.\n",
    "\n",
    "- **Vitality**: How long you can last without going down. Also, how well you can defend yourself.\n",
    "\n",
    "- **Agility**: More agile means fighting longer without getting tired. Also, determines who hits first. ALSO, how well you can dodge attacks.\n",
    "\n",
    "- **Intelligence**: How many actions you can fit into some time frame. Also, you miss less.\n",
    "\n",
    "- **Luck**: How often you get critical hits... if you land the blow.\n",
    "\n",
    "You will have the opportunity to allocate your stats in the introduction of the game. The higher the value out of 10, the better your stat will be. Your HP (your life force) and AP (your ability to act) heavily depend on how you build your character. \n",
    "        \n",
    "HOWEVER, you will only have 25 points to allocate to 5 stats! Use them wisely.\n",
    "\n",
    "In the game, you will have three options at any given turn. Here, you may:\n",
    "\n",
    "- **Attack**: Strike the enemy, lowering their HP if it lands.\n",
    "\n",
    "- **Defend**: Mitigate incoming damage.\n",
    "\n",
    "- **Rest**: Take some time to regain extra AP.\n",
    "                \n",
    "The whole of the combat section of the game can be minimized down to a rock-paper-scissors type of game structure.\n",
    "\n",
    "- **Attack beats Rest**! Hit them at the opportune moment.\n",
    "\n",
    "- **Defend beats Attack**! Save yourself some hurt.\n",
    "\n",
    "- **Rest beats Defend**! Pick yourself back up in the meantime.\n",
    "\n",
    "Certain aspects of the game are not explained through the execution, so instead, they will be explained here:\n",
    "\n",
    "**AP costs**: The default move costs are as follows:\n",
    "- Strong attack = 40 AP\n",
    "- Medium attack = 25 AP\n",
    "- Weak attack = 5 AP\n",
    "- Defend = 5 AP\n",
    "- Rest = 0 AP\n",
    "\n",
    "These values change depending on how agile you are. The more agile, the less your actions cost.\n",
    "\n",
    "**AP regeneration**: After every turn, you regenerate +10 AP. However, _resting_ grants you twice that amount with +20 AP.\n",
    "\n",
    "**Attack damage**: The default attack damages for a _5 strength_ character are as follows:\n",
    "\n",
    "- Strong attack = 10 dmg\n",
    "- Medium attack = 20 dmg\n",
    "- Weak attack = 35 dmg\n",
    "\n",
    "These values will also change depending on your strength. Also, some damage will be negated if the receiver is defending. Defending happens regardless of turn order. Along with these are many more values that are left hidden in the code. We don't need to know them right now!\n",
    "\n",
    "The NPC is also somewhat intelligent. The less health they have, the more like they are to defend. The less AP, the more likely to rest.\n",
    "\n",
    "**Side notes on quality**: There are definitely a lot of things that could be better refined. For instance: \n",
    "- The number values turn into floats with repreating digits very easily for some reason. This could be fixed by making a limit test that limits values to a certain number of digits, but I'll leave that for another time. \n",
    "\n",
    "- I also would have chosen to make all clear_output() cases more flashy, as I initially wanted the ouput to disappear line by line.\n",
    "\n",
    "- The different types of enemies should have different personalities. For example, the zombie may be very aggressive, or the goblin may frequently defend.\n",
    "\n",
    "- It looks like Jupyter notebook (nor in VSCode!) handle time.sleep() very well. Text animations appear a bit choppy.\n",
    "\n",
    "- The game isn't perfectly balanced, or even well balanced! I'm sure there's optimal attribute allocation numbers.\n",
    "\n",
    "That's all. If you are familiar with RPG games of any kind, the mechanics you encounter in game should seem very familiar, but also very simplified. Enjoy!"
   ]
  },
  {
   "attachments": {},
   "cell_type": "markdown",
   "metadata": {},
   "source": [
    "### Enter The Arena!\n",
    "#### Important note:\n",
    "You may expect to fight a _**zombie**_, a _**goblin**_, a _**giant**_, or the _**antihero**_. Make that clear once you're in the arena."
   ]
  },
  {
   "cell_type": "code",
   "execution_count": null,
   "metadata": {},
   "outputs": [],
   "source": [
    "from scripts.my_script import the_game\n",
    "\n",
    "# Run me!\n",
    "the_game()"
   ]
  },
  {
   "attachments": {},
   "cell_type": "markdown",
   "metadata": {},
   "source": [
    "#### Extra Credit (*optional*)"
   ]
  },
  {
   "attachments": {},
   "cell_type": "markdown",
   "metadata": {},
   "source": [
    "1. I have no background in Python, but I have been working with MATLAB for two or three quarters in courses CENG 15 and CENG 113.\n",
    "2. This project is unlike anything I could ever do in MATLAB, and for being introduced to Python just this quarter, the satisfaction I got from creating a full text-based game from scratch is enough for me on its own. This endeavor is more than anything I could possibly have done with basic graphs and computer math."
   ]
  }
 ],
 "metadata": {
  "kernelspec": {
   "display_name": "base",
   "language": "python",
   "name": "python3"
  },
  "language_info": {
   "codemirror_mode": {
    "name": "ipython",
    "version": 3
   },
   "file_extension": ".py",
   "mimetype": "text/x-python",
   "name": "python",
   "nbconvert_exporter": "python",
   "pygments_lexer": "ipython3",
   "version": "3.10.9"
  },
  "orig_nbformat": 4
 },
 "nbformat": 4,
 "nbformat_minor": 2
}
